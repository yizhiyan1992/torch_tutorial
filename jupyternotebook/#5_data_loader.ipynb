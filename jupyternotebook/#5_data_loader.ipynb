{
 "cells": [
  {
   "cell_type": "code",
   "execution_count": 16,
   "metadata": {},
   "outputs": [],
   "source": [
    "import torch\n",
    "from torch.utils.data import Dataset,DataLoader\n",
    "import pandas as pd\n",
    "import numpy as np\n",
    "from pathlib import Path"
   ]
  },
  {
   "cell_type": "code",
   "execution_count": 46,
   "metadata": {},
   "outputs": [],
   "source": [
    "class ExampleData(Dataset):\n",
    "    def __init__(self,path):\n",
    "        # load data\n",
    "        self.data = pd.read_csv(path,header=0)\n",
    "        self.x = self.data.iloc[:,:-1].values\n",
    "        self.y = self.data.iloc[:,-1].values\n",
    "        self.y = np.reshape(self.y,(-1,1))\n",
    "        #self.x = torch.from_numpy(self.x)\n",
    "        #self.y = torch.from_numpy(self.y)\n",
    "    \n",
    "    def __getitem__(self,index):\n",
    "        x = self.x[index,:]\n",
    "        y = self.y[index,:]\n",
    "        return (x,y)\n",
    "    \n",
    "    def __len__(self):\n",
    "        return len(self.x)"
   ]
  },
  {
   "cell_type": "code",
   "execution_count": 47,
   "metadata": {},
   "outputs": [],
   "source": [
    "path=Path(\"C:/Users/Zhiyan/Desktop/sample.csv\")\n",
    "data = ExampleData(path)\n",
    "loader = DataLoader(data,batch_size=5, shuffle=True)"
   ]
  },
  {
   "cell_type": "code",
   "execution_count": 48,
   "metadata": {},
   "outputs": [
    {
     "name": "stdout",
     "output_type": "stream",
     "text": [
      "tensor([[   546371, 767600901],\n",
      "        [   182139, 767634001],\n",
      "        [   182139, 767807111],\n",
      "        [   158699, 767876641],\n",
      "        [   182139, 767758831]])\n",
      "tensor([[1],\n",
      "        [1],\n",
      "        [1],\n",
      "        [1],\n",
      "        [1]])\n"
     ]
    }
   ],
   "source": [
    "epoch = 5\n",
    "for i in range(epoch):\n",
    "    for idx,data in enumerate(loader):\n",
    "        x,y=data\n",
    "        print(x)\n",
    "        print(y)\n",
    "        break\n",
    "    break"
   ]
  },
  {
   "cell_type": "markdown",
   "metadata": {},
   "source": [
    "1. Note that even we do not convert numpy to tensor, the result is still tensor.\n",
    "2. Check data types for each columns, and throw out the header..."
   ]
  },
  {
   "cell_type": "code",
   "execution_count": null,
   "metadata": {},
   "outputs": [],
   "source": []
  }
 ],
 "metadata": {
  "kernelspec": {
   "display_name": "Python [conda env:virtualenv] *",
   "language": "python",
   "name": "conda-env-virtualenv-py"
  },
  "language_info": {
   "codemirror_mode": {
    "name": "ipython",
    "version": 3
   },
   "file_extension": ".py",
   "mimetype": "text/x-python",
   "name": "python",
   "nbconvert_exporter": "python",
   "pygments_lexer": "ipython3",
   "version": "3.7.11"
  }
 },
 "nbformat": 4,
 "nbformat_minor": 2
}
