{
 "cells": [
  {
   "cell_type": "code",
   "execution_count": 23,
   "id": "7dea711b",
   "metadata": {},
   "outputs": [],
   "source": [
    "import torch\n",
    "import numpy as np"
   ]
  },
  {
   "cell_type": "code",
   "execution_count": 3,
   "id": "3fd8785f",
   "metadata": {},
   "outputs": [
    {
     "data": {
      "text/plain": [
       "tensor([[0.0000e+00, 0.0000e+00, 0.0000e+00],\n",
       "        [0.0000e+00, 0.0000e+00, 7.1046e-43]])"
      ]
     },
     "execution_count": 3,
     "metadata": {},
     "output_type": "execute_result"
    }
   ],
   "source": [
    "# in pytorch, everything runs based on tensor\n",
    "t1=torch.empty(2,3)\n",
    "t1"
   ]
  },
  {
   "cell_type": "code",
   "execution_count": 6,
   "id": "038711d3",
   "metadata": {},
   "outputs": [
    {
     "data": {
      "text/plain": [
       "tensor([[0.4945, 0.8624],\n",
       "        [0.5757, 0.7962]])"
      ]
     },
     "execution_count": 6,
     "metadata": {},
     "output_type": "execute_result"
    }
   ],
   "source": [
    "t2=torch.rand(2,2)\n",
    "t2"
   ]
  },
  {
   "cell_type": "code",
   "execution_count": 8,
   "id": "c03e954f",
   "metadata": {},
   "outputs": [
    {
     "data": {
      "text/plain": [
       "tensor([[1, 1],\n",
       "        [1, 1]], dtype=torch.int32)"
      ]
     },
     "execution_count": 8,
     "metadata": {},
     "output_type": "execute_result"
    }
   ],
   "source": [
    "torch.ones(2,2,dtype=torch.int)"
   ]
  },
  {
   "cell_type": "code",
   "execution_count": 11,
   "id": "105fd51f",
   "metadata": {},
   "outputs": [
    {
     "data": {
      "text/plain": [
       "tensor([[3., 2.],\n",
       "        [2., 1.]], dtype=torch.float64)"
      ]
     },
     "execution_count": 11,
     "metadata": {},
     "output_type": "execute_result"
    }
   ],
   "source": [
    "# create tensor from a list\n",
    "t3=torch.tensor([[3,2],[2,1]],dtype=torch.float64)\n",
    "t3"
   ]
  },
  {
   "cell_type": "code",
   "execution_count": 12,
   "id": "07c87213",
   "metadata": {},
   "outputs": [
    {
     "data": {
      "text/plain": [
       "tensor([[3.4945, 2.8624],\n",
       "        [2.5757, 1.7962]], dtype=torch.float64)"
      ]
     },
     "execution_count": 12,
     "metadata": {},
     "output_type": "execute_result"
    }
   ],
   "source": [
    "# arithmatic operations\n",
    "torch.add(t2,t3)"
   ]
  },
  {
   "cell_type": "code",
   "execution_count": 13,
   "id": "42c9b22d",
   "metadata": {},
   "outputs": [
    {
     "data": {
      "text/plain": [
       "tensor([[3.4945, 2.8624],\n",
       "        [2.5757, 1.7962]])"
      ]
     },
     "execution_count": 13,
     "metadata": {},
     "output_type": "execute_result"
    }
   ],
   "source": [
    "# underscore means in-place\n",
    "t2.add_(t3)"
   ]
  },
  {
   "cell_type": "code",
   "execution_count": 17,
   "id": "1f72c6b4",
   "metadata": {},
   "outputs": [
    {
     "data": {
      "text/plain": [
       "3.4944567680358887"
      ]
     },
     "execution_count": 17,
     "metadata": {},
     "output_type": "execute_result"
    }
   ],
   "source": [
    "# get the value\n",
    "t2[0,0].item()"
   ]
  },
  {
   "cell_type": "code",
   "execution_count": 19,
   "id": "8bcd95d2",
   "metadata": {},
   "outputs": [
    {
     "data": {
      "text/plain": [
       "torch.Size([2, 8])"
      ]
     },
     "execution_count": 19,
     "metadata": {},
     "output_type": "execute_result"
    }
   ],
   "source": [
    "#reshape the tensor\n",
    "t4=torch.rand(4,4)\n",
    "t4.view(-1,8).shape"
   ]
  },
  {
   "cell_type": "markdown",
   "id": "71356a3d",
   "metadata": {},
   "source": [
    "### convert from numpy to tensor and vice versa"
   ]
  },
  {
   "cell_type": "code",
   "execution_count": 22,
   "id": "69bfe353",
   "metadata": {},
   "outputs": [
    {
     "data": {
      "text/plain": [
       "numpy.ndarray"
      ]
     },
     "execution_count": 22,
     "metadata": {},
     "output_type": "execute_result"
    }
   ],
   "source": [
    "type(t4.numpy())"
   ]
  },
  {
   "cell_type": "code",
   "execution_count": 24,
   "id": "d00c411c",
   "metadata": {},
   "outputs": [
    {
     "data": {
      "text/plain": [
       "tensor([[1., 1., 1.],\n",
       "        [1., 1., 1.],\n",
       "        [1., 1., 1.]], dtype=torch.float64)"
      ]
     },
     "execution_count": 24,
     "metadata": {},
     "output_type": "execute_result"
    }
   ],
   "source": [
    "n1=np.ones([3,3])\n",
    "torch.from_numpy(n1)"
   ]
  },
  {
   "cell_type": "code",
   "execution_count": 26,
   "id": "ad603720",
   "metadata": {},
   "outputs": [],
   "source": [
    "# note that on GPU, tensor and numpy share same memory, changing value on np will change value on tensor as well.\n",
    "# tensors on CPU and Cuda can be different!"
   ]
  },
  {
   "cell_type": "code",
   "execution_count": 28,
   "id": "3ddb5f48",
   "metadata": {},
   "outputs": [],
   "source": [
    "# requires_grad arg tells torch that this is a variable, and will be used for back-prop in gradient descent.\n",
    "t5=torch.ones(4,4,requires_grad=True)"
   ]
  },
  {
   "cell_type": "code",
   "execution_count": null,
   "id": "7b31c239",
   "metadata": {},
   "outputs": [],
   "source": []
  }
 ],
 "metadata": {
  "kernelspec": {
   "display_name": "Python [conda env:virtualenv] *",
   "language": "python",
   "name": "conda-env-virtualenv-py"
  },
  "language_info": {
   "codemirror_mode": {
    "name": "ipython",
    "version": 3
   },
   "file_extension": ".py",
   "mimetype": "text/x-python",
   "name": "python",
   "nbconvert_exporter": "python",
   "pygments_lexer": "ipython3",
   "version": "3.7.11"
  }
 },
 "nbformat": 4,
 "nbformat_minor": 5
}
