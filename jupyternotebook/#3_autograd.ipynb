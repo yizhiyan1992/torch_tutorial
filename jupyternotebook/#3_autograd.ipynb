{
 "cells": [
  {
   "cell_type": "code",
   "execution_count": 1,
   "id": "c8f99ad0",
   "metadata": {},
   "outputs": [],
   "source": [
    "import torch"
   ]
  },
  {
   "cell_type": "code",
   "execution_count": 30,
   "id": "e26871ab",
   "metadata": {},
   "outputs": [
    {
     "data": {
      "text/plain": [
       "tensor([[2.1000, 3.0000],\n",
       "        [1.4000, 4.0000]], requires_grad=True)"
      ]
     },
     "execution_count": 30,
     "metadata": {},
     "output_type": "execute_result"
    }
   ],
   "source": [
    "# calculate the gradient\n",
    "x=torch.tensor([[2.1,3],[1.4,4]],requires_grad=True)\n",
    "x"
   ]
  },
  {
   "cell_type": "code",
   "execution_count": 31,
   "id": "e17d54ba",
   "metadata": {},
   "outputs": [
    {
     "data": {
      "text/plain": [
       "tensor([[11.6100, 18.0000],\n",
       "        [ 7.7600, 27.0000]], grad_fn=<AddBackward0>)"
      ]
     },
     "execution_count": 31,
     "metadata": {},
     "output_type": "execute_result"
    }
   ],
   "source": [
    "y=x*x+3+2*x\n",
    "y"
   ]
  },
  {
   "cell_type": "code",
   "execution_count": 32,
   "id": "b2b54157",
   "metadata": {},
   "outputs": [
    {
     "data": {
      "text/plain": [
       "tensor(16.0925, grad_fn=<MeanBackward0>)"
      ]
     },
     "execution_count": 32,
     "metadata": {},
     "output_type": "execute_result"
    }
   ],
   "source": [
    "z=y.mean()\n",
    "z"
   ]
  },
  {
   "cell_type": "code",
   "execution_count": 19,
   "id": "fc00b501",
   "metadata": {},
   "outputs": [],
   "source": [
    "z.backward()"
   ]
  },
  {
   "cell_type": "code",
   "execution_count": 20,
   "id": "42714555",
   "metadata": {},
   "outputs": [
    {
     "data": {
      "text/plain": [
       "tensor([[1.5500, 2.0000],\n",
       "        [1.2000, 2.5000]])"
      ]
     },
     "execution_count": 20,
     "metadata": {},
     "output_type": "execute_result"
    }
   ],
   "source": [
    "x.grad"
   ]
  },
  {
   "cell_type": "code",
   "execution_count": 25,
   "id": "64ebf167",
   "metadata": {},
   "outputs": [],
   "source": [
    "# if y is not scalar, then we need to pass the argument of a tensor that has same shape with y\n",
    "y.backward(torch.tensor([[1,1],[1,1]]))"
   ]
  },
  {
   "cell_type": "code",
   "execution_count": 28,
   "id": "9b86ce79",
   "metadata": {},
   "outputs": [
    {
     "data": {
      "text/plain": [
       "tensor([[11.6100, 18.0000],\n",
       "        [ 7.7600, 27.0000]])"
      ]
     },
     "execution_count": 28,
     "metadata": {},
     "output_type": "execute_result"
    }
   ],
   "source": [
    "# we can get a copy of a tensor without gradients using tensor.detach() method.\n",
    "y.detach()"
   ]
  },
  {
   "cell_type": "code",
   "execution_count": 34,
   "id": "a1c1e6dc",
   "metadata": {},
   "outputs": [
    {
     "name": "stdout",
     "output_type": "stream",
     "text": [
      "tensor([3., 3., 3., 3.])\n",
      "tensor([6., 6., 6., 6.])\n",
      "tensor([9., 9., 9., 9.])\n"
     ]
    }
   ],
   "source": [
    "# note that in pytorch, the grad will accumulate when we apply backward multiple times.\n",
    "weight=torch.ones(4,requires_grad=True)\n",
    "for i in range(3):\n",
    "    model_output=(weight*3).sum()\n",
    "    model_output.backward()\n",
    "    print(weight.grad)"
   ]
  },
  {
   "cell_type": "code",
   "execution_count": 35,
   "id": "83710881",
   "metadata": {},
   "outputs": [
    {
     "name": "stdout",
     "output_type": "stream",
     "text": [
      "tensor([3., 3., 3., 3.])\n",
      "tensor([3., 3., 3., 3.])\n",
      "tensor([3., 3., 3., 3.])\n"
     ]
    }
   ],
   "source": [
    "# always use tensor.grad.zero_() to clean previous grad values\n",
    "weight=torch.ones(4,requires_grad=True)\n",
    "for i in range(3):\n",
    "    model_output=(weight*3).sum()\n",
    "    model_output.backward()\n",
    "    print(weight.grad)\n",
    "    weight.grad.zero_()"
   ]
  },
  {
   "cell_type": "code",
   "execution_count": null,
   "id": "6b16a52d",
   "metadata": {},
   "outputs": [],
   "source": []
  }
 ],
 "metadata": {
  "kernelspec": {
   "display_name": "Python [conda env:virtualenv] *",
   "language": "python",
   "name": "conda-env-virtualenv-py"
  },
  "language_info": {
   "codemirror_mode": {
    "name": "ipython",
    "version": 3
   },
   "file_extension": ".py",
   "mimetype": "text/x-python",
   "name": "python",
   "nbconvert_exporter": "python",
   "pygments_lexer": "ipython3",
   "version": "3.7.11"
  }
 },
 "nbformat": 4,
 "nbformat_minor": 5
}
